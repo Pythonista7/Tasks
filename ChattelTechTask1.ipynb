{
 "cells": [
  {
   "cell_type": "markdown",
   "metadata": {},
   "source": [
    "# Screening Task - 1\n",
    "#### Write a web scraper to collect google news (from here).A sample screenshot of the google news is shown above. Both, main news and sub news are to be collected from the whole page. This news is to be preprocessed, summarized, and stored in separate tables. Write a small function to search exact words like surge, acquisitions, and IPO (initial public offering)."
   ]
  },
  {
   "cell_type": "markdown",
   "metadata": {},
   "source": [
    "## Import dependencies"
   ]
  },
  {
   "cell_type": "code",
   "execution_count": 1,
   "metadata": {},
   "outputs": [],
   "source": [
    "import urllib.request\n",
    "from bs4 import BeautifulSoup  \n",
    "from newspaper import Article\n",
    "import nltk\n",
    "#un-comment as requried\n",
    "#nltk.download('punkt')\n",
    "#nltk.download('stopwords')"
   ]
  },
  {
   "cell_type": "markdown",
   "metadata": {},
   "source": [
    "## Select Requried URL"
   ]
  },
  {
   "cell_type": "code",
   "execution_count": 2,
   "metadata": {},
   "outputs": [],
   "source": [
    "#biz\n",
    "url=\"https://news.google.com/topics/CAAqJggKIiBDQkFTRWdvSUwyMHZNRGx6TVdZU0FtVnVHZ0pKVGlnQVAB?hl=en-IN&gl=IN&ceid=IN%3Aen\"\n",
    "\n",
    "#tech\n",
    "#url='https://news.google.com/topics/CAAqJggKIiBDQkFTRWdvSUwyMHZNRGRqTVhZU0FtVnVHZ0pKVGlnQVAB?hl=en-IN&gl=IN&ceid=IN%3Aen'\n",
    "\n",
    "#ent\n",
    "#url='https://news.google.com/topics/CAAqJggKIiBDQkFTRWdvSUwyMHZNREpxYW5RU0FtVnVHZ0pKVGlnQVAB?hl=en-IN&gl=IN&ceid=IN%3Aen'\n",
    "\n",
    "#health\n",
    "#url='https://news.google.com/topics/CAAqIQgKIhtDQkFTRGdvSUwyMHZNR3QwTlRFU0FtVnVLQUFQAQ?hl=en-IN&gl=IN&ceid=IN%3Aen'"
   ]
  },
  {
   "cell_type": "markdown",
   "metadata": {},
   "source": [
    "## Get HTML from the target page"
   ]
  },
  {
   "cell_type": "code",
   "execution_count": 3,
   "metadata": {},
   "outputs": [],
   "source": [
    "page=urllib.request.Request(url,headers={'User-Agent': 'Mozilla/5.0'}) \n",
    "infile=urllib.request.urlopen(page).read()\n",
    "soup = BeautifulSoup(infile, 'html.parser')"
   ]
  },
  {
   "cell_type": "code",
   "execution_count": 4,
   "metadata": {},
   "outputs": [],
   "source": [
    "all_tabs=soup.find(attrs={\"class\":\"fe4pJf\"})\n",
    "if all_tabs==None:\n",
    "    print(\"Failed\")"
   ]
  },
  {
   "cell_type": "code",
   "execution_count": 5,
   "metadata": {},
   "outputs": [
    {
     "data": {
      "text/plain": [
       "54"
      ]
     },
     "execution_count": 5,
     "metadata": {},
     "output_type": "execute_result"
    }
   ],
   "source": [
    "#extracting a list of elements containing the different new cards\n",
    "tab=all_tabs(attrs={\"class\":'xrnccd F6Welf R7GTQ keNKEd j7vNaf'}) \n",
    "len(tab)"
   ]
  },
  {
   "cell_type": "markdown",
   "metadata": {},
   "source": [
    "## Data Extraction And Storage"
   ]
  },
  {
   "cell_type": "markdown",
   "metadata": {},
   "source": [
    "All the data will be stored in a dictionary format with the key being the news-title and will have a nested dictionary as value for each key.<br>\n",
    "{\t<br>\n",
    " <b>NEWS_TITLE_1</b>:<br>\n",
    " {<br>\n",
    "     <b>SUB</b> : [ A list of sub-news topics under the news-title],<br>\n",
    "     <b>LINKS</b> : [ A list of links which contained in the news article ],<br>\n",
    "     <b>SUMMARY</b> : “String :  summary of the article from the original website”.<br>\n",
    " }<br>\n",
    "    \n",
    " _ _ _<br><br>\n",
    " _ _ _<br><br>\n",
    "\n",
    " <b>NEWS_TITLE_N</b>:<br>\n",
    " {<br>\n",
    "     <b>SUB</b> : [ A list of sub-news topics under the news-title],<br>\n",
    "     <b>LINKS</b> : [ A list of links which contained in the news article ],<br>\n",
    "     <b>SUMMARY</b> : “String :  summary of the article from the original website”.<br>\n",
    " }<br>\n",
    "    \n",
    "}"
   ]
  },
  {
   "cell_type": "code",
   "execution_count": 44,
   "metadata": {},
   "outputs": [],
   "source": [
    "db={}\n",
    "logs=[]#data collection and other exceptions and runtime errors will be logged here"
   ]
  },
  {
   "cell_type": "code",
   "execution_count": 45,
   "metadata": {},
   "outputs": [],
   "source": [
    "for t in tab:\n",
    "    title=BeautifulSoup.getText(t.find(attrs={\"class\":\"DY5T1d\"}))\n",
    "    sub=list(map(BeautifulSoup.get_text,t.find_all(attrs={\"class\":\"ipQwMb ekueJc gEATFF RD0gLb\"})))\n",
    "    link=list(set(['https://news.google.com/'+x['href'][2:] for x in t.find_all('a',href=True)]))\n",
    "    summary=\"\"\n",
    "    try:\n",
    "        article = Article(link[0], language=\"en\") # en for English \n",
    "        #To download the article \n",
    "        article.download() \n",
    "        #To parse the article \n",
    "        article.parse() \n",
    "        #To perform natural language processing ie..nlp \n",
    "        article.nlp() \n",
    "        summary=article.summary\n",
    "    except Exception as e:\n",
    "        logs.append({\"title\":title,\"error\":e})\n",
    "    finally:\n",
    "        db[title]={\"SUB\":sub,\"LINKS\":link,\"SUMMARY\":summary}"
   ]
  },
  {
   "cell_type": "code",
   "execution_count": 46,
   "metadata": {},
   "outputs": [],
   "source": [
    "#db"
   ]
  },
  {
   "cell_type": "code",
   "execution_count": 47,
   "metadata": {},
   "outputs": [
    {
     "data": {
      "text/plain": [
       "[{'title': 'How Tesla And Other Automotive Manufacturers Are Fighting Coronavirus',\n",
       "  'error': newspaper.article.ArticleException('Article `download()` failed with 403 Client Error: Forbidden for url: https://www.bizjournals.com/sanjose/news/2020/03/20/elon-musk-coronavirus-ventilators-tesla.html on URL https://news.google.com/articles/CBMiYGh0dHBzOi8vd3d3LmJpempvdXJuYWxzLmNvbS9zYW5qb3NlL25ld3MvMjAyMC8wMy8yMC9lbG9uLW11c2stY29yb25hdmlydXMtdmVudGlsYXRvcnMtdGVzbGEuaHRtbNIBZGh0dHBzOi8vd3d3LmJpempvdXJuYWxzLmNvbS9zYW5qb3NlL25ld3MvMjAyMC8wMy8yMC9lbG9uLW11c2stY29yb25hdmlydXMtdmVudGlsYXRvcnMtdGVzbGEuYW1wLmh0bWw?hl=en-IN&gl=IN&ceid=IN%3Aen')}]"
      ]
     },
     "execution_count": 47,
     "metadata": {},
     "output_type": "execute_result"
    }
   ],
   "source": [
    "logs"
   ]
  },
  {
   "cell_type": "markdown",
   "metadata": {},
   "source": [
    "### Converting the dict to a pandas dataframe"
   ]
  },
  {
   "cell_type": "code",
   "execution_count": 16,
   "metadata": {},
   "outputs": [],
   "source": [
    "import pandas as pd"
   ]
  },
  {
   "cell_type": "code",
   "execution_count": 17,
   "metadata": {},
   "outputs": [],
   "source": [
    "df=pd.DataFrame(data=db).transpose()"
   ]
  },
  {
   "cell_type": "markdown",
   "metadata": {},
   "source": [
    "##### data can be stored in other formats , for now .json is being used"
   ]
  },
  {
   "cell_type": "code",
   "execution_count": 18,
   "metadata": {},
   "outputs": [],
   "source": [
    "df.to_json('db.json')"
   ]
  },
  {
   "cell_type": "code",
   "execution_count": 34,
   "metadata": {},
   "outputs": [
    {
     "data": {
      "text/html": [
       "<div>\n",
       "<style scoped>\n",
       "    .dataframe tbody tr th:only-of-type {\n",
       "        vertical-align: middle;\n",
       "    }\n",
       "\n",
       "    .dataframe tbody tr th {\n",
       "        vertical-align: top;\n",
       "    }\n",
       "\n",
       "    .dataframe thead th {\n",
       "        text-align: right;\n",
       "    }\n",
       "</style>\n",
       "<table border=\"1\" class=\"dataframe\">\n",
       "  <thead>\n",
       "    <tr style=\"text-align: right;\">\n",
       "      <th></th>\n",
       "      <th>SUB</th>\n",
       "      <th>LINKS</th>\n",
       "      <th>SUMMARY</th>\n",
       "    </tr>\n",
       "  </thead>\n",
       "  <tbody>\n",
       "    <tr>\n",
       "      <th>Coronavirus: Maruti Suzuki halts production at Haryana plants</th>\n",
       "      <td>[Coronavirus: Maruti Suzuki halts production a...</td>\n",
       "      <td>[https://news.google.com/articles/CBMiigFodHRw...</td>\n",
       "      <td>New Delhi: Maruti Suzuki India Ltd, country’s ...</td>\n",
       "    </tr>\n",
       "    <tr>\n",
       "      <th>Coronavirus | Anand Mahindra offers to convert Mahindra resorts to temporary care facilities</th>\n",
       "      <td>[Coronavirus | Anand Mahindra offers to conver...</td>\n",
       "      <td>[https://news.google.com/publications/CAAqBwgK...</td>\n",
       "      <td>The YSRCP government in Andhra Pradesh has dec...</td>\n",
       "    </tr>\n",
       "    <tr>\n",
       "      <th>Coronavirus update: Calls for rate cut grow louder</th>\n",
       "      <td>[Coronavirus update: Calls for rate cut grow l...</td>\n",
       "      <td>[https://news.google.com/publications/CAAqBwgK...</td>\n",
       "      <td>Delhi Chief Minister Arvind Kejriwal on Sunday...</td>\n",
       "    </tr>\n",
       "    <tr>\n",
       "      <th>Hero MotoCorp Announces Global Shutdown Of Manufacturing Plants Amidst Coronavirus Pandemic</th>\n",
       "      <td>[Hero MotoCorp Announces Global Shutdown Of Ma...</td>\n",
       "      <td>[https://news.google.com/stories/CAAqbQgKImdDQ...</td>\n",
       "      <td>World's largest two-wheeler maker, Hero MotoCo...</td>\n",
       "    </tr>\n",
       "    <tr>\n",
       "      <th>Centre nod to incentive scheme of Rs 40,995 cr for electronics firms</th>\n",
       "      <td>[Centre nod to incentive scheme of Rs 40,995 c...</td>\n",
       "      <td>[https://news.google.com/publications/CAAqBwgK...</td>\n",
       "      <td>Tata Motors on Friday said it has decided to r...</td>\n",
       "    </tr>\n",
       "  </tbody>\n",
       "</table>\n",
       "</div>"
      ],
      "text/plain": [
       "                                                                                                  SUB  \\\n",
       "Coronavirus: Maruti Suzuki halts production at ...  [Coronavirus: Maruti Suzuki halts production a...   \n",
       "Coronavirus | Anand Mahindra offers to convert ...  [Coronavirus | Anand Mahindra offers to conver...   \n",
       "Coronavirus update: Calls for rate cut grow louder  [Coronavirus update: Calls for rate cut grow l...   \n",
       "Hero MotoCorp Announces Global Shutdown Of Manu...  [Hero MotoCorp Announces Global Shutdown Of Ma...   \n",
       "Centre nod to incentive scheme of Rs 40,995 cr ...  [Centre nod to incentive scheme of Rs 40,995 c...   \n",
       "\n",
       "                                                                                                LINKS  \\\n",
       "Coronavirus: Maruti Suzuki halts production at ...  [https://news.google.com/articles/CBMiigFodHRw...   \n",
       "Coronavirus | Anand Mahindra offers to convert ...  [https://news.google.com/publications/CAAqBwgK...   \n",
       "Coronavirus update: Calls for rate cut grow louder  [https://news.google.com/publications/CAAqBwgK...   \n",
       "Hero MotoCorp Announces Global Shutdown Of Manu...  [https://news.google.com/stories/CAAqbQgKImdDQ...   \n",
       "Centre nod to incentive scheme of Rs 40,995 cr ...  [https://news.google.com/publications/CAAqBwgK...   \n",
       "\n",
       "                                                                                              SUMMARY  \n",
       "Coronavirus: Maruti Suzuki halts production at ...  New Delhi: Maruti Suzuki India Ltd, country’s ...  \n",
       "Coronavirus | Anand Mahindra offers to convert ...  The YSRCP government in Andhra Pradesh has dec...  \n",
       "Coronavirus update: Calls for rate cut grow louder  Delhi Chief Minister Arvind Kejriwal on Sunday...  \n",
       "Hero MotoCorp Announces Global Shutdown Of Manu...  World's largest two-wheeler maker, Hero MotoCo...  \n",
       "Centre nod to incentive scheme of Rs 40,995 cr ...  Tata Motors on Friday said it has decided to r...  "
      ]
     },
     "execution_count": 34,
     "metadata": {},
     "output_type": "execute_result"
    }
   ],
   "source": [
    "df.head()"
   ]
  },
  {
   "cell_type": "markdown",
   "metadata": {},
   "source": [
    "### Searching from keywords"
   ]
  },
  {
   "cell_type": "markdown",
   "metadata": {},
   "source": [
    "##### Utility function to clean and speed up word searching by eliminating stop words"
   ]
  },
  {
   "cell_type": "code",
   "execution_count": 20,
   "metadata": {},
   "outputs": [],
   "source": [
    "from nltk.corpus import stopwords \n",
    "from nltk.tokenize import word_tokenize \n",
    "  \n",
    "def filter_summary(text):\n",
    "    stop_words = set(stopwords.words('english')) \n",
    "\n",
    "    word_tokens = word_tokenize(text) \n",
    "\n",
    "    filtered_sentence = [w for w in word_tokens if not w in stop_words] \n",
    "\n",
    "    filtered_sentence = [] \n",
    "\n",
    "    for w in word_tokens: \n",
    "        if w not in stop_words: \n",
    "            filtered_sentence.append(w) \n",
    "    \n",
    "    return filtered_sentence"
   ]
  },
  {
   "cell_type": "markdown",
   "metadata": {},
   "source": [
    "###### Driver function to loop through the dataframe and call the above utility function "
   ]
  },
  {
   "cell_type": "code",
   "execution_count": 21,
   "metadata": {},
   "outputs": [],
   "source": [
    "def search_for_keyword(text):\n",
    "    res=[]\n",
    "    text=text.strip().lower()\n",
    "    for i in df.index:\n",
    "        search_space=' '.join([i,df.loc[i]['SUMMARY'],' '.join(df.loc[i]['SUB'])])\n",
    "        if text in filter_summary(search_space.strip().lower()) :\n",
    "            res.append(i)\n",
    "\n",
    "    \n",
    "    return df.loc[res]\n",
    "    \n",
    "    "
   ]
  },
  {
   "cell_type": "code",
   "execution_count": 31,
   "metadata": {},
   "outputs": [
    {
     "data": {
      "text/html": [
       "<div>\n",
       "<style scoped>\n",
       "    .dataframe tbody tr th:only-of-type {\n",
       "        vertical-align: middle;\n",
       "    }\n",
       "\n",
       "    .dataframe tbody tr th {\n",
       "        vertical-align: top;\n",
       "    }\n",
       "\n",
       "    .dataframe thead th {\n",
       "        text-align: right;\n",
       "    }\n",
       "</style>\n",
       "<table border=\"1\" class=\"dataframe\">\n",
       "  <thead>\n",
       "    <tr style=\"text-align: right;\">\n",
       "      <th></th>\n",
       "      <th>SUB</th>\n",
       "      <th>LINKS</th>\n",
       "      <th>SUMMARY</th>\n",
       "    </tr>\n",
       "  </thead>\n",
       "  <tbody>\n",
       "    <tr>\n",
       "      <th>Faced with Over 75 lakh Job Cuts, US Airlines Warn Govt of 'Draconian' Steps in Absence of Help</th>\n",
       "      <td>[Faced with Over 75 lakh Job Cuts, US Airlines...</td>\n",
       "      <td>[https://news.google.com/publications/CAAqBwgK...</td>\n",
       "      <td>I have lived with the same man for more than a...</td>\n",
       "    </tr>\n",
       "  </tbody>\n",
       "</table>\n",
       "</div>"
      ],
      "text/plain": [
       "                                                                                                  SUB  \\\n",
       "Faced with Over 75 lakh Job Cuts, US Airlines W...  [Faced with Over 75 lakh Job Cuts, US Airlines...   \n",
       "\n",
       "                                                                                                LINKS  \\\n",
       "Faced with Over 75 lakh Job Cuts, US Airlines W...  [https://news.google.com/publications/CAAqBwgK...   \n",
       "\n",
       "                                                                                              SUMMARY  \n",
       "Faced with Over 75 lakh Job Cuts, US Airlines W...  I have lived with the same man for more than a...  "
      ]
     },
     "execution_count": 31,
     "metadata": {},
     "output_type": "execute_result"
    }
   ],
   "source": [
    "search_for_keyword('acquisitions')"
   ]
  },
  {
   "cell_type": "code",
   "execution_count": 32,
   "metadata": {},
   "outputs": [
    {
     "data": {
      "text/html": [
       "<div>\n",
       "<style scoped>\n",
       "    .dataframe tbody tr th:only-of-type {\n",
       "        vertical-align: middle;\n",
       "    }\n",
       "\n",
       "    .dataframe tbody tr th {\n",
       "        vertical-align: top;\n",
       "    }\n",
       "\n",
       "    .dataframe thead th {\n",
       "        text-align: right;\n",
       "    }\n",
       "</style>\n",
       "<table border=\"1\" class=\"dataframe\">\n",
       "  <thead>\n",
       "    <tr style=\"text-align: right;\">\n",
       "      <th></th>\n",
       "      <th>SUB</th>\n",
       "      <th>LINKS</th>\n",
       "      <th>SUMMARY</th>\n",
       "    </tr>\n",
       "  </thead>\n",
       "  <tbody>\n",
       "    <tr>\n",
       "      <th>Up to 150% surge! After coronavirus hit, this stock could be a multibagger in the making!</th>\n",
       "      <td>[Up to 150% surge! After coronavirus hit, this...</td>\n",
       "      <td>[https://news.google.com/articles/CBMihwFodHRw...</td>\n",
       "      <td>Motilal Oswal has given a buy rating to Mother...</td>\n",
       "    </tr>\n",
       "  </tbody>\n",
       "</table>\n",
       "</div>"
      ],
      "text/plain": [
       "                                                                                                  SUB  \\\n",
       "Up to 150% surge! After coronavirus hit, this s...  [Up to 150% surge! After coronavirus hit, this...   \n",
       "\n",
       "                                                                                                LINKS  \\\n",
       "Up to 150% surge! After coronavirus hit, this s...  [https://news.google.com/articles/CBMihwFodHRw...   \n",
       "\n",
       "                                                                                              SUMMARY  \n",
       "Up to 150% surge! After coronavirus hit, this s...  Motilal Oswal has given a buy rating to Mother...  "
      ]
     },
     "execution_count": 32,
     "metadata": {},
     "output_type": "execute_result"
    }
   ],
   "source": [
    "search_for_keyword('surge')"
   ]
  },
  {
   "cell_type": "code",
   "execution_count": 33,
   "metadata": {},
   "outputs": [
    {
     "data": {
      "text/html": [
       "<div>\n",
       "<style scoped>\n",
       "    .dataframe tbody tr th:only-of-type {\n",
       "        vertical-align: middle;\n",
       "    }\n",
       "\n",
       "    .dataframe tbody tr th {\n",
       "        vertical-align: top;\n",
       "    }\n",
       "\n",
       "    .dataframe thead th {\n",
       "        text-align: right;\n",
       "    }\n",
       "</style>\n",
       "<table border=\"1\" class=\"dataframe\">\n",
       "  <thead>\n",
       "    <tr style=\"text-align: right;\">\n",
       "      <th></th>\n",
       "      <th>SUB</th>\n",
       "      <th>LINKS</th>\n",
       "      <th>SUMMARY</th>\n",
       "    </tr>\n",
       "  </thead>\n",
       "  <tbody>\n",
       "    <tr>\n",
       "      <th>Amazon CEO Jeff Bezos warns workers that coronavirus will 'get worse before it gets better'</th>\n",
       "      <td>[Amazon CEO Jeff Bezos warns workers that coro...</td>\n",
       "      <td>[https://news.google.com/articles/CBMitwFodHRw...</td>\n",
       "      <td>Amazon CEO Jeff Bezos said in a statement on S...</td>\n",
       "    </tr>\n",
       "    <tr>\n",
       "      <th>COAI asks Netflix, Hotstar, other OTTs to lower streaming quality to reduce internet overload</th>\n",
       "      <td>[COAI asks Netflix, Hotstar, other OTTs to low...</td>\n",
       "      <td>[https://news.google.com/publications/CAAqBggK...</td>\n",
       "      <td>If there is ever a discussion about the greate...</td>\n",
       "    </tr>\n",
       "    <tr>\n",
       "      <th>Coronavirus: YouTube follows Netflix and cuts Europe streaming quality - Business Insider</th>\n",
       "      <td>[Coronavirus: YouTube follows Netflix and cuts...</td>\n",
       "      <td>[https://news.google.com/publications/CAAqBggK...</td>\n",
       "      <td>If there is ever a discussion about the greate...</td>\n",
       "    </tr>\n",
       "  </tbody>\n",
       "</table>\n",
       "</div>"
      ],
      "text/plain": [
       "                                                                                                  SUB  \\\n",
       "Amazon CEO Jeff Bezos warns workers that corona...  [Amazon CEO Jeff Bezos warns workers that coro...   \n",
       "COAI asks Netflix, Hotstar, other OTTs to lower...  [COAI asks Netflix, Hotstar, other OTTs to low...   \n",
       "Coronavirus: YouTube follows Netflix and cuts E...  [Coronavirus: YouTube follows Netflix and cuts...   \n",
       "\n",
       "                                                                                                LINKS  \\\n",
       "Amazon CEO Jeff Bezos warns workers that corona...  [https://news.google.com/articles/CBMitwFodHRw...   \n",
       "COAI asks Netflix, Hotstar, other OTTs to lower...  [https://news.google.com/publications/CAAqBggK...   \n",
       "Coronavirus: YouTube follows Netflix and cuts E...  [https://news.google.com/publications/CAAqBggK...   \n",
       "\n",
       "                                                                                              SUMMARY  \n",
       "Amazon CEO Jeff Bezos warns workers that corona...  Amazon CEO Jeff Bezos said in a statement on S...  \n",
       "COAI asks Netflix, Hotstar, other OTTs to lower...  If there is ever a discussion about the greate...  \n",
       "Coronavirus: YouTube follows Netflix and cuts E...  If there is ever a discussion about the greate...  "
      ]
     },
     "execution_count": 33,
     "metadata": {},
     "output_type": "execute_result"
    }
   ],
   "source": [
    "search_for_keyword('amazon')"
   ]
  },
  {
   "cell_type": "markdown",
   "metadata": {},
   "source": [
    "## END"
   ]
  }
 ],
 "metadata": {
  "kernelspec": {
   "display_name": "Python 3",
   "language": "python",
   "name": "python3"
  },
  "language_info": {
   "codemirror_mode": {
    "name": "ipython",
    "version": 3
   },
   "file_extension": ".py",
   "mimetype": "text/x-python",
   "name": "python",
   "nbconvert_exporter": "python",
   "pygments_lexer": "ipython3",
   "version": "3.7.3"
  }
 },
 "nbformat": 4,
 "nbformat_minor": 4
}
