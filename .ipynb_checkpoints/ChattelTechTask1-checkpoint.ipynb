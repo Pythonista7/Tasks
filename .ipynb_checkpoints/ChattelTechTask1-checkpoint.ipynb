{
 "cells": [
  {
   "cell_type": "markdown",
   "metadata": {},
   "source": [
    "# Screening Task - 1\n",
    "#### Write a web scraper to collect google news (from here).A sample screenshot of the google news is shown above. Both, main news and sub news are to be collected from the whole page. This news is to be preprocessed, summarized, and stored in separate tables. Write a small function to search exact words like surge, acquisitions, and IPO (initial public offering)."
   ]
  },
  {
   "cell_type": "markdown",
   "metadata": {},
   "source": [
    "## Import dependencies"
   ]
  },
  {
   "cell_type": "code",
   "execution_count": 213,
   "metadata": {},
   "outputs": [],
   "source": [
    "import urllib.request\n",
    "from bs4 import BeautifulSoup  \n",
    "from newspaper import Article\n",
    "import nltk\n",
    "import datetime\n",
    "#un-comment as requried\n",
    "#nltk.download('punkt')\n",
    "#nltk.download('stopwords')"
   ]
  },
  {
   "cell_type": "markdown",
   "metadata": {},
   "source": [
    "## Select Requried URL"
   ]
  },
  {
   "cell_type": "code",
   "execution_count": 251,
   "metadata": {},
   "outputs": [],
   "source": [
    "#biz\n",
    "url=\"https://news.google.com/topics/CAAqJggKIiBDQkFTRWdvSUwyMHZNRGx6TVdZU0FtVnVHZ0pKVGlnQVAB?hl=en-IN&gl=IN&ceid=IN%3Aen\"\n",
    "\n",
    "#tech\n",
    "#url='https://news.google.com/topics/CAAqJggKIiBDQkFTRWdvSUwyMHZNRGRqTVhZU0FtVnVHZ0pKVGlnQVAB?hl=en-IN&gl=IN&ceid=IN%3Aen'\n",
    "\n",
    "#ent\n",
    "#url='https://news.google.com/topics/CAAqJggKIiBDQkFTRWdvSUwyMHZNREpxYW5RU0FtVnVHZ0pKVGlnQVAB?hl=en-IN&gl=IN&ceid=IN%3Aen'\n",
    "\n",
    "#health\n",
    "#url='https://news.google.com/topics/CAAqIQgKIhtDQkFTRGdvSUwyMHZNR3QwTlRFU0FtVnVLQUFQAQ?hl=en-IN&gl=IN&ceid=IN%3Aen'"
   ]
  },
  {
   "cell_type": "markdown",
   "metadata": {},
   "source": [
    "## Get HTML from the target page"
   ]
  },
  {
   "cell_type": "code",
   "execution_count": 252,
   "metadata": {},
   "outputs": [],
   "source": [
    "page=urllib.request.Request(url,headers={'User-Agent': 'Mozilla/5.0'}) \n",
    "infile=urllib.request.urlopen(page).read()\n",
    "soup = BeautifulSoup(infile, 'html.parser')"
   ]
  },
  {
   "cell_type": "code",
   "execution_count": 253,
   "metadata": {},
   "outputs": [
    {
     "name": "stdout",
     "output_type": "stream",
     "text": [
      "6\n"
     ]
    }
   ],
   "source": [
    "all_tabs=soup.find(attrs={\"class\":\"fe4pJf\"})\n",
    "if all_tabs==None:\n",
    "    print(\"Failed\")\n",
    "print(len(all_tabs))"
   ]
  },
  {
   "cell_type": "code",
   "execution_count": 254,
   "metadata": {},
   "outputs": [
    {
     "data": {
      "text/plain": [
       "63"
      ]
     },
     "execution_count": 254,
     "metadata": {},
     "output_type": "execute_result"
    }
   ],
   "source": [
    "#extracting a list of elements containing the different new cards\n",
    "tab=all_tabs(attrs={\"class\":'xrnccd F6Welf R7GTQ keNKEd j7vNaf'}) \n",
    "len(tab)"
   ]
  },
  {
   "cell_type": "markdown",
   "metadata": {},
   "source": [
    "## Data Extraction And Storage"
   ]
  },
  {
   "cell_type": "markdown",
   "metadata": {},
   "source": [
    "All the data will be stored in a dictionary format with the key being the news-title and will have a nested dictionary as value for each key.<br>\n",
    "{\t<br>\n",
    " <b>NEWS_TITLE_1</b>:<br>\n",
    " {<br>\n",
    "     <b>SUB</b> : [ A list of sub-news topics under the news-title],<br>\n",
    "     <b>LINKS</b> : [ A list of links which contained in the news article ],<br>\n",
    "     <b>SUMMARY</b> : “String :  summary of the article from the original website”.<br>\n",
    " }<br>\n",
    "    \n",
    " _ _ _<br><br>\n",
    " _ _ _<br><br>\n",
    "\n",
    " <b>NEWS_TITLE_N</b>:<br>\n",
    " {<br>\n",
    "     <b>SUB</b> : [ A list of sub-news topics under the news-title],<br>\n",
    "     <b>LINKS</b> : [ A list of links which contained in the news article ],<br>\n",
    "     <b>SUMMARY</b> : “String :  summary of the article from the original website”.<br>\n",
    " }<br>\n",
    "    \n",
    "}"
   ]
  },
  {
   "cell_type": "code",
   "execution_count": 255,
   "metadata": {},
   "outputs": [],
   "source": [
    "db={}\n",
    "logs=[]#data collection and other exceptions and runtime errors will be logged here"
   ]
  },
  {
   "cell_type": "code",
   "execution_count": 256,
   "metadata": {},
   "outputs": [],
   "source": [
    "for t in tab:\n",
    "    title=BeautifulSoup.getText(t.find(attrs={\"class\":\"DY5T1d\"}))\n",
    "    sub=list(map(BeautifulSoup.get_text,t.find_all(attrs={\"class\":\"ipQwMb ekueJc gEATFF RD0gLb\"})))\n",
    "    link=list(set(['https://news.google.com/'+x['href'][2:] for x in t.find_all('a',href=True)]))\n",
    "    summary=\"\"\n",
    "    timestamp=datetime.datetime.now()\n",
    "    try:\n",
    "        article = Article(link[0], language=\"en\") # en for English \n",
    "        #To download the article \n",
    "        article.download() \n",
    "        #To parse the article \n",
    "        article.parse() \n",
    "        #To perform natural language processing ie..nlp \n",
    "        article.nlp() \n",
    "        summary=article.summary\n",
    "    except Exception as e:\n",
    "        logs.append({\"title\":title,\"error\":e,\"timestamp\":timestamp})\n",
    "    finally:\n",
    "        #[s.insert(0,title) for s in sub]\n",
    "        db[title]={\"SUB\":sub,\"LINKS\":link,\"SUMMARY\":summary,\"TIMESTAMP\":timestamp}"
   ]
  },
  {
   "cell_type": "code",
   "execution_count": null,
   "metadata": {},
   "outputs": [],
   "source": []
  },
  {
   "cell_type": "code",
   "execution_count": 258,
   "metadata": {},
   "outputs": [
    {
     "data": {
      "text/plain": [
       "[]"
      ]
     },
     "execution_count": 258,
     "metadata": {},
     "output_type": "execute_result"
    }
   ],
   "source": [
    "logs"
   ]
  },
  {
   "cell_type": "markdown",
   "metadata": {},
   "source": [
    "### Converting the dict to a pandas dataframe"
   ]
  },
  {
   "cell_type": "code",
   "execution_count": 259,
   "metadata": {},
   "outputs": [],
   "source": [
    "import pandas as pd"
   ]
  },
  {
   "cell_type": "markdown",
   "metadata": {},
   "source": [
    "### Main table of News Titles"
   ]
  },
  {
   "cell_type": "code",
   "execution_count": 260,
   "metadata": {},
   "outputs": [
    {
     "data": {
      "text/html": [
       "<div>\n",
       "<style scoped>\n",
       "    .dataframe tbody tr th:only-of-type {\n",
       "        vertical-align: middle;\n",
       "    }\n",
       "\n",
       "    .dataframe tbody tr th {\n",
       "        vertical-align: top;\n",
       "    }\n",
       "\n",
       "    .dataframe thead th {\n",
       "        text-align: right;\n",
       "    }\n",
       "</style>\n",
       "<table border=\"1\" class=\"dataframe\">\n",
       "  <thead>\n",
       "    <tr style=\"text-align: right;\">\n",
       "      <th></th>\n",
       "      <th>Main News Titles</th>\n",
       "    </tr>\n",
       "  </thead>\n",
       "  <tbody>\n",
       "    <tr>\n",
       "      <th>0</th>\n",
       "      <td>Taking Stock: FM comments soothe nerves; Nifty...</td>\n",
       "    </tr>\n",
       "    <tr>\n",
       "      <th>1</th>\n",
       "      <td>Record! Lab makes first Made-in-India kit for ...</td>\n",
       "    </tr>\n",
       "    <tr>\n",
       "      <th>2</th>\n",
       "      <td>YouTube, Apple TV+, and Amazon Prime Video red...</td>\n",
       "    </tr>\n",
       "    <tr>\n",
       "      <th>3</th>\n",
       "      <td>Coronavirus Outbreak: India needs stimulus pla...</td>\n",
       "    </tr>\n",
       "    <tr>\n",
       "      <th>4</th>\n",
       "      <td>Nation under lockdown for 21 days, but stock m...</td>\n",
       "    </tr>\n",
       "  </tbody>\n",
       "</table>\n",
       "</div>"
      ],
      "text/plain": [
       "                                    Main News Titles\n",
       "0  Taking Stock: FM comments soothe nerves; Nifty...\n",
       "1  Record! Lab makes first Made-in-India kit for ...\n",
       "2  YouTube, Apple TV+, and Amazon Prime Video red...\n",
       "3  Coronavirus Outbreak: India needs stimulus pla...\n",
       "4  Nation under lockdown for 21 days, but stock m..."
      ]
     },
     "execution_count": 260,
     "metadata": {},
     "output_type": "execute_result"
    }
   ],
   "source": [
    "main_news_df=pd.DataFrame(data=db.keys(),columns=[\"Main News Titles\"])\n",
    "main_news_df.head()"
   ]
  },
  {
   "cell_type": "markdown",
   "metadata": {},
   "source": [
    "### Sub Tabel"
   ]
  },
  {
   "cell_type": "code",
   "execution_count": 261,
   "metadata": {},
   "outputs": [],
   "source": [
    "sub_df=pd.DataFrame(data=db).transpose()\n",
    "sub_df.to_json('db.json') # data can be stored in other formats , for now .json is being used"
   ]
  },
  {
   "cell_type": "code",
   "execution_count": 262,
   "metadata": {},
   "outputs": [
    {
     "data": {
      "text/html": [
       "<div>\n",
       "<style scoped>\n",
       "    .dataframe tbody tr th:only-of-type {\n",
       "        vertical-align: middle;\n",
       "    }\n",
       "\n",
       "    .dataframe tbody tr th {\n",
       "        vertical-align: top;\n",
       "    }\n",
       "\n",
       "    .dataframe thead th {\n",
       "        text-align: right;\n",
       "    }\n",
       "</style>\n",
       "<table border=\"1\" class=\"dataframe\">\n",
       "  <thead>\n",
       "    <tr style=\"text-align: right;\">\n",
       "      <th></th>\n",
       "      <th>SUB</th>\n",
       "      <th>LINKS</th>\n",
       "      <th>SUMMARY</th>\n",
       "      <th>TIMESTAMP</th>\n",
       "    </tr>\n",
       "  </thead>\n",
       "  <tbody>\n",
       "    <tr>\n",
       "      <th>Taking Stock: FM comments soothe nerves; Nifty off high but holds 7,800</th>\n",
       "      <td>[Taking Stock: FM comments soothe nerves; Nift...</td>\n",
       "      <td>[https://news.google.com/articles/CAIiECrsPvYA...</td>\n",
       "      <td>Stock Markets LIVE Updates: Markets rebound, e...</td>\n",
       "      <td>2020-03-24 23:15:36.930003</td>\n",
       "    </tr>\n",
       "    <tr>\n",
       "      <th>Record! Lab makes first Made-in-India kit for COVID-19 testing - Telugu News</th>\n",
       "      <td>[Record! Lab makes first Made-in-India kit for...</td>\n",
       "      <td>[https://news.google.com/articles/CAIiEMfK0CHY...</td>\n",
       "      <td>In what may go down as an important solution i...</td>\n",
       "      <td>2020-03-24 23:15:38.765906</td>\n",
       "    </tr>\n",
       "    <tr>\n",
       "      <th>YouTube, Apple TV+, and Amazon Prime Video reduce image quality in Europe following Netflix</th>\n",
       "      <td>[YouTube, Apple TV+, and Amazon Prime Video re...</td>\n",
       "      <td>[https://news.google.com/articles/CBMihgFodHRw...</td>\n",
       "      <td>Companies like Amazon Prime Video are also tem...</td>\n",
       "      <td>2020-03-24 23:15:39.261944</td>\n",
       "    </tr>\n",
       "    <tr>\n",
       "      <th>Coronavirus Outbreak: India needs stimulus plan or it risks crippling small businesses, say industry bodies</th>\n",
       "      <td>[Coronavirus Outbreak: India needs stimulus pl...</td>\n",
       "      <td>[https://news.google.com/publications/CAAqBwgK...</td>\n",
       "      <td>As airlines idle thousands of aircraft for whi...</td>\n",
       "      <td>2020-03-24 23:15:39.792386</td>\n",
       "    </tr>\n",
       "    <tr>\n",
       "      <th>Nation under lockdown for 21 days, but stock market will stay open</th>\n",
       "      <td>[Nation under lockdown for 21 days, but stock ...</td>\n",
       "      <td>[https://news.google.com/articles/CAIiEKt84WZW...</td>\n",
       "      <td>Stock markets have been operating normally des...</td>\n",
       "      <td>2020-03-24 23:15:40.755336</td>\n",
       "    </tr>\n",
       "  </tbody>\n",
       "</table>\n",
       "</div>"
      ],
      "text/plain": [
       "                                                                                                  SUB  \\\n",
       "Taking Stock: FM comments soothe nerves; Nifty ...  [Taking Stock: FM comments soothe nerves; Nift...   \n",
       "Record! Lab makes first Made-in-India kit for C...  [Record! Lab makes first Made-in-India kit for...   \n",
       "YouTube, Apple TV+, and Amazon Prime Video redu...  [YouTube, Apple TV+, and Amazon Prime Video re...   \n",
       "Coronavirus Outbreak: India needs stimulus plan...  [Coronavirus Outbreak: India needs stimulus pl...   \n",
       "Nation under lockdown for 21 days, but stock ma...  [Nation under lockdown for 21 days, but stock ...   \n",
       "\n",
       "                                                                                                LINKS  \\\n",
       "Taking Stock: FM comments soothe nerves; Nifty ...  [https://news.google.com/articles/CAIiECrsPvYA...   \n",
       "Record! Lab makes first Made-in-India kit for C...  [https://news.google.com/articles/CAIiEMfK0CHY...   \n",
       "YouTube, Apple TV+, and Amazon Prime Video redu...  [https://news.google.com/articles/CBMihgFodHRw...   \n",
       "Coronavirus Outbreak: India needs stimulus plan...  [https://news.google.com/publications/CAAqBwgK...   \n",
       "Nation under lockdown for 21 days, but stock ma...  [https://news.google.com/articles/CAIiEKt84WZW...   \n",
       "\n",
       "                                                                                              SUMMARY  \\\n",
       "Taking Stock: FM comments soothe nerves; Nifty ...  Stock Markets LIVE Updates: Markets rebound, e...   \n",
       "Record! Lab makes first Made-in-India kit for C...  In what may go down as an important solution i...   \n",
       "YouTube, Apple TV+, and Amazon Prime Video redu...  Companies like Amazon Prime Video are also tem...   \n",
       "Coronavirus Outbreak: India needs stimulus plan...  As airlines idle thousands of aircraft for whi...   \n",
       "Nation under lockdown for 21 days, but stock ma...  Stock markets have been operating normally des...   \n",
       "\n",
       "                                                                    TIMESTAMP  \n",
       "Taking Stock: FM comments soothe nerves; Nifty ... 2020-03-24 23:15:36.930003  \n",
       "Record! Lab makes first Made-in-India kit for C... 2020-03-24 23:15:38.765906  \n",
       "YouTube, Apple TV+, and Amazon Prime Video redu... 2020-03-24 23:15:39.261944  \n",
       "Coronavirus Outbreak: India needs stimulus plan... 2020-03-24 23:15:39.792386  \n",
       "Nation under lockdown for 21 days, but stock ma... 2020-03-24 23:15:40.755336  "
      ]
     },
     "execution_count": 262,
     "metadata": {},
     "output_type": "execute_result"
    }
   ],
   "source": [
    "sub_df.head()"
   ]
  },
  {
   "cell_type": "markdown",
   "metadata": {},
   "source": [
    "#### Referencing Sub-News dataframe wrt news from main dataframe"
   ]
  },
  {
   "cell_type": "code",
   "execution_count": 263,
   "metadata": {},
   "outputs": [
    {
     "data": {
      "text/html": [
       "<div>\n",
       "<style scoped>\n",
       "    .dataframe tbody tr th:only-of-type {\n",
       "        vertical-align: middle;\n",
       "    }\n",
       "\n",
       "    .dataframe tbody tr th {\n",
       "        vertical-align: top;\n",
       "    }\n",
       "\n",
       "    .dataframe thead th {\n",
       "        text-align: right;\n",
       "    }\n",
       "</style>\n",
       "<table border=\"1\" class=\"dataframe\">\n",
       "  <thead>\n",
       "    <tr style=\"text-align: right;\">\n",
       "      <th></th>\n",
       "      <th>SUB</th>\n",
       "      <th>LINKS</th>\n",
       "      <th>SUMMARY</th>\n",
       "      <th>TIMESTAMP</th>\n",
       "    </tr>\n",
       "  </thead>\n",
       "  <tbody>\n",
       "    <tr>\n",
       "      <th>YouTube, Apple TV+, and Amazon Prime Video reduce image quality in Europe following Netflix</th>\n",
       "      <td>[YouTube, Apple TV+, and Amazon Prime Video re...</td>\n",
       "      <td>[https://news.google.com/articles/CBMihgFodHRw...</td>\n",
       "      <td>Companies like Amazon Prime Video are also tem...</td>\n",
       "      <td>2020-03-24 23:15:39.261944</td>\n",
       "    </tr>\n",
       "  </tbody>\n",
       "</table>\n",
       "</div>"
      ],
      "text/plain": [
       "                                                                                                  SUB  \\\n",
       "YouTube, Apple TV+, and Amazon Prime Video redu...  [YouTube, Apple TV+, and Amazon Prime Video re...   \n",
       "\n",
       "                                                                                                LINKS  \\\n",
       "YouTube, Apple TV+, and Amazon Prime Video redu...  [https://news.google.com/articles/CBMihgFodHRw...   \n",
       "\n",
       "                                                                                              SUMMARY  \\\n",
       "YouTube, Apple TV+, and Amazon Prime Video redu...  Companies like Amazon Prime Video are also tem...   \n",
       "\n",
       "                                                                    TIMESTAMP  \n",
       "YouTube, Apple TV+, and Amazon Prime Video redu... 2020-03-24 23:15:39.261944  "
      ]
     },
     "execution_count": 263,
     "metadata": {},
     "output_type": "execute_result"
    }
   ],
   "source": [
    "sub_df.loc[main_news_df.loc[2]]"
   ]
  },
  {
   "cell_type": "markdown",
   "metadata": {},
   "source": [
    "### Searching from keywords"
   ]
  },
  {
   "cell_type": "code",
   "execution_count": 268,
   "metadata": {},
   "outputs": [],
   "source": [
    "def search_in_sent(search_space,search_keys):\n",
    "    ret=[]\n",
    "    sents=nltk.sent_tokenize(search_space)\n",
    "    for sent in sents:\n",
    "        if any(word in search_keys for word in sent.split()):\n",
    "            ret.append(sent)\n",
    "            \n",
    "    return ret\n",
    "\n",
    "    "
   ]
  },
  {
   "cell_type": "code",
   "execution_count": 310,
   "metadata": {},
   "outputs": [],
   "source": [
    "#Driver code to use above function\n",
    "def search(search_keys):\n",
    "    res=[]\n",
    "    #loop through each article and retrive sentences \n",
    "    for i in sub_df.index:\n",
    "        search_space=' '.join([i,sub_df.loc[i]['SUMMARY'],' '.join(sub_df.loc[i]['SUB'])])\n",
    "        ret=search_in_sent(search_space.strip().lower(),search_keys) \n",
    "        if len(ret)!=0:\n",
    "            res.append(ret)\n",
    "    return res"
   ]
  },
  {
   "cell_type": "markdown",
   "metadata": {},
   "source": [
    "### Searching for sentences with a set of keywords"
   ]
  },
  {
   "cell_type": "code",
   "execution_count": 312,
   "metadata": {},
   "outputs": [
    {
     "data": {
      "text/plain": [
       "[['youtube, apple tv+, and amazon prime video reduce image quality in europe following netflix companies like amazon prime video are also temporarily lowering bit rates - a measure of how much data is being transferred - to ease pressure on telecom network infrastructure.',\n",
       "  \"netflix's rival, amazon prime video on monday had said it has begun efforts to reduce streaming bitrates in india.\",\n",
       "  \"youtube, apple tv+, and amazon prime video reduce image quality in europe following netflix netflix lowers video quality in india to reduce network stress amid pandemic disney's streaming service arrives in europe as coronavirus forces people to stay indoors netflix finds way to maintain streaming quality in india despite heavy traffic hotstar, netflix urged to stop ads, hd content as coronavirus lockdown overloads internet\"],\n",
       " ['gold prices today jump ₹600 per 10 gram, silver rates surge about ₹2,000 rising gold prices means confidence in our leaders is bleeding out.',\n",
       "  'amp video_youtube yesterday bookmark_border share more_vert gold prices today jump ₹600 per 10 gram, silver rates surge about ₹2,000 gold futures prices soar over $100 on london spot confusion gold rate leapfrogs on risk aversion, global cues gold price hits rs 42,000 per 10 gram, silver up by rs 3,475 gold, silver prices soar after fed action; previous forced selling abates'],\n",
       " ['“this sudden surge in digital use is already putting pressure on the network infrastructure of the telecom service providers (tsps).'],\n",
       " ['infosys share price rallies 10% on sec all clear in whistleblower case new delhi: infosys on tuesday said the us securities and exchange commission (sec) has concluded the investigation in the whistleblower allegations made last year, and that it does not anticipate any further action by the regulator.',\n",
       "  'infosys share price rallies 10% on sec all clear in whistleblower case sec completes probe against infosys on whistleblower allegations infosys says us sec concludes probe in whistleblower case; no further action expected infosys gets clean chit from sec in whistleblower case infosys gets clean chit from sec on whistleblower complaint; stock rallies 10%'],\n",
       " ['petrol, diesel price today: no rate cuts yet but excise duty could be hiked the government will be raising additional excise duty on petrol and diesel by rs 8 per litre.',\n",
       "  'petrol, diesel price today: no rate cuts yet but excise duty could be hiked coronavirus impact | government raises cap on excise duty on petrol and diesel coronavirus impact: a hike in fuel rates with finance bill passed, govt can increase petrol, diesel prices big story | the finance bill amendment may cause your fuel bill to rise'],\n",
       " ['this also means that we have to temporarily stop taking orders and disable shipments for lower-priority products,” amazon said in a statement.',\n",
       "  'coronavirus: amazon, flipkart, big basket, grofers struggle to deliver essentials in india because of loc... amazon to stop non-essential sales, shipments in india amazon, flipkart to pay equalization levy in india epidemic low-hanging fruit for online shops amazon, zomato, and other deliveries are still running during lockdown in india, but users may face delays'],\n",
       " ['amp video_youtube 7 hours ago bookmark_border share more_vertoilprice.com the real reason oil prices crashed whose fault is the current oil price crash?',\n",
       "  'amp video_youtube 17 hours ago bookmark_border share more_vertcontractors operate a drilling pipe at a colgate energy llc oil rig in reeves county, texas, u.s., on wednesday, aug. 22, 2018. ril, 5 sectors to gain from the sharp fall in oil prices crude oil price forecast - crude oil markets trying to build base oil jumps 5% to over $28 on fed steps to support economy guest opinion: trump should put tariff on oil imported from saudi arabia saudi arabia tanker power play could backfire as oil demand shrinks'],\n",
       " ['as you are probably well aware, there are tons of different accommodation options out there for every quirk and price point.'],\n",
       " [\"she has, however, assur...amp video_youtube business standard 6 hours ago bookmark_border share hul zooms 10% after announcing acquisition of vwash from glenmark hul share price jumps 6% after acquiring hygiene brand 'vwash' from glenmark hul, glenmark pharma surge up to 10% on vwash deal hul share price rises 10% on deal to acquire hygiene brand 'vwash' hul to buy vwash from glenmark\"],\n",
       " ['top 3 price prediction: btc, eth, xrp — has bullish breakout started?',\n",
       "  'goldman sachs’ call to buy gold cheers bitcoin bulls; here’s why cryptocurrencies: bitcoin versus gold as a safe-haven asset bitcoin price analysis: crypto whales add volatility to the market as btc/usd heads towards $7,000'],\n",
       " ['oil prices rise on possible u.s.-saudi alliance crude oil price forecast - crude oil markets stagnant wti under pressure near $23.00 ahead of api nigeria makes brutal oil price cuts crude oil price forecast – crude oil markets stagnant'],\n",
       " ['amp video_youtube yesterday bookmark_border share more_vert a deep dollar crisis is looming and coronavirus pandemic cannot be blamed for it stocks, oil, bitcoin surge after fed boosts coronavirus stimulus - business insider the federal reserve just pledged asset purchases with no limit to support markets the fed is running out of options to stave off a coronavirus depression the fed should never lend to anyone other than banks'],\n",
       " ['in bid for coronavirus vaccine, u.s. eases access to supercomputers ibm supercomputers to be used in the global fight against covid-19 ibm provides supercomputing power to push off covid-19 ibm, amazon, google partner with us govt to provide resources for coronavirus research us ties up with ibm, amazon, google to use 16 supercomputers for coronavirus research'],\n",
       " ['oil prices have also been getting battered day after day, due to lower demand and this oil price war between saudi arabia and russia.',\n",
       "  'russia hoping to outdo saudis over time in coronavirus-hit oil market oil price fundamental daily forecast – demand destruction, rising production could push wti prices to $15 crude extends fall with us gasoline down 20% as global shutdowns sap demand'],\n",
       " ['sterlite tech share price jumps 8% after board approves share buyback the board of directors of sterlite technologies on tuesday approved a buyback proposal worth ₹145 crore at a price not exceeding ₹150 a share.',\n",
       "  'the board of directors of sterlite technologies on tuesday approved a buyback proposal worth ₹145 crore at a price not exceeding ₹150 a share.',\n",
       "  'this will exclude all kinds of transactional and other related costs at a price not exceeding rs 150 per equity share.',\n",
       "  'sterlite tech share price jumps 8% after board approves share buyback sterlite technologies approves buyback of shares up to rs 145 crore sterlite tech board okays buyback at ₹150 a share board meetings today: sterlite tech, kalpataru power and suzlon energy'],\n",
       " [\"amazon teams up with bill gates-backed group to deliver coronavirus test kits amazon.com inc is teaming up with a research program funded by bill gates to pick up and deliver coronavirus test kits in seattle, the e-commerce giant said on monday.the seattle coronavirus assessment network, a group of medical, public health and research organizations, is collecting nasal swabs from a sample of people across king county and seattle to learn how the infection is spreading in the areas.king county, part of washington state, is one of the worst hit places by the outbreak in the united states.the u.s. centers for disease control and prevention (cdc) on monday reported 33,453 cases of coronavirus in the country, an increase of 18,185 cases from its previous count, and said the death toll had risen by 199 to 400.\\namazon care , the e-commerce giant's arm that provide medical care to employees, along with other delivery partners will provide infrastructure and logistics services to the effort, according to scan's website.\",\n",
       "  'it was not immediately clear whether ups and fedex were part of the effort.cnbc first reported about the move, which amazon said is limited to amazon care and does not involve its broader delivery network.',\n",
       "  'amazon teams up with bill gates-backed group to deliver coronavirus test kits coronavirus outbreak: amazon, bill gates join hands to deliver test kits as covid-19 pandemic cases soar... amazon will deliver at-home covid-19 test kits in seattle trial 2,221 coronavirus cases confirmed in washington; 110 dead amazon to deliver coronavirus tests'],\n",
       " ['it is not so much that now is the right time but rather is the price right?'],\n",
       " ['it is not so much that now is the right time but rather is the price right?'],\n",
       " ['amazon hikes overtime pay for workers in us delhi chief minister arvind kejriwal on tuesday said that no new cases of coronavirus had been reported in the national capital in the last 40 hours.',\n",
       "  'all you need to do i...amp video_youtube india today 18 minutes ago bookmark_border share amazon hikes overtime pay for workers in us amazon gives part-time warehouse workers paid time off after a group of them fought for it jeff bezos, larry fink, and other top us execs dodged $1.9 billion in losses by selling their own stock as the class war in the making?'],\n",
       " ['according to the company, over the past few days, bigbasket has faced an unprecedented surge in orders and traffic, which has put a corresponding load on their tech systems.',\n",
       "  'bigbasket app, site crash on high demand coronavirus impact: bigbasket site crash after abnormal surge in demand bigbasket app, site crashes amid surge in demand'],\n",
       " ['new-gen hyundai creta gets shod with 18-inch tyres and sporty alloys price comparison: 2020 hyundai creta vs kia seltos vs tata harrier vs mg hector vs mahindra xuv500 vs renault duster vs mahindra scorpio all-new hyundai creta deliveries start [video] hyundai creta modified with n line and massive tesla screen [video]']]"
      ]
     },
     "execution_count": 312,
     "metadata": {},
     "output_type": "execute_result"
    }
   ],
   "source": [
    "search_keys=[\"surge\",\"price\",\"amazon\",\"gained\",\"google\"]\n",
    "search(search_keys)"
   ]
  },
  {
   "cell_type": "code",
   "execution_count": null,
   "metadata": {},
   "outputs": [],
   "source": []
  },
  {
   "cell_type": "markdown",
   "metadata": {},
   "source": [
    "## END"
   ]
  }
 ],
 "metadata": {
  "kernelspec": {
   "display_name": "Python 3",
   "language": "python",
   "name": "python3"
  },
  "language_info": {
   "codemirror_mode": {
    "name": "ipython",
    "version": 3
   },
   "file_extension": ".py",
   "mimetype": "text/x-python",
   "name": "python",
   "nbconvert_exporter": "python",
   "pygments_lexer": "ipython3",
   "version": "3.7.3"
  }
 },
 "nbformat": 4,
 "nbformat_minor": 4
}
